{
 "cells": [
  {
   "cell_type": "markdown",
   "id": "d81e103c",
   "metadata": {},
   "source": [
    "# Task 4 — Business Optimization using Linear Programming (PuLP)\n",
    "\n",
    "**Objective:** Solve a production planning problem for a factory that produces Product A and Product B.\n",
    "This notebook demonstrates problem statement, mathematical formulation, PuLP implementation, results, visualization,\n",
    "and interpretation / business insights.\n",
    "\n",
    "---"
   ]
  },
  {
   "cell_type": "markdown",
   "id": "79fb7c63",
   "metadata": {},
   "source": [
    "## Problem Statement\n",
    "\n",
    "A factory produces **Product A** and **Product B**.\n",
    "\n",
    "- Profit per unit:\n",
    "  - Product A → \\$20\n",
    "  - Product B → \\$30\n",
    "\n",
    "- Resource requirements per unit:\n",
    "  - Product A → 2 hours machine, 3 hours labor\n",
    "  - Product B → 4 hours machine, 2 hours labor\n",
    "\n",
    "- Resource capacities:\n",
    "  - Machine time ≤ 100 hours\n",
    "  - Labor time ≤ 90 hours\n",
    "\n",
    "**Goal:** Determine how many units of A and B to produce to **maximize total profit**."
   ]
  },
  {
   "cell_type": "markdown",
   "id": "793705de",
   "metadata": {},
   "source": [
    "## Mathematical Formulation\n",
    "\n",
    "Let:\n",
    "- xA = units of Product A\n",
    "- xB = units of Product B\n",
    "\n",
    "Objective:\n",
    "Maximize: 20·xA + 30·xB\n",
    "\n",
    "Subject to:\n",
    "- 2·xA + 4·xB ≤ 100   (machine time)\n",
    "- 3·xA + 2·xB ≤ 90    (labor time)\n",
    "- xA, xB ≥ 0"
   ]
  },
  {
   "cell_type": "code",
   "execution_count": null,
   "id": "1437e2a0",
   "metadata": {
    "vscode": {
     "languageId": "plaintext"
    }
   },
   "outputs": [],
   "source": [
    "# Implementation using PuLP\n",
    "# If PuLP is not installed in your environment, uncomment and run:\n",
    "# !pip install pulp matplotlib\n",
    "\n",
    "import pulp\n",
    "import numpy as np\n",
    "import matplotlib.pyplot as plt\n",
    "from IPython.display import Markdown as md\n",
    "\n",
    "# Ensure plots show inline (Jupyter)\n",
    "%matplotlib inline"
   ]
  },
  {
   "cell_type": "code",
   "execution_count": null,
   "id": "51d19741",
   "metadata": {
    "vscode": {
     "languageId": "plaintext"
    }
   },
   "outputs": [],
   "source": [
    "# Define the LP problem (maximize)\n",
    "model = pulp.LpProblem(\"Factory_Optimization\", pulp.LpMaximize)\n",
    "\n",
    "# Decision variables\n",
    "xA = pulp.LpVariable(\"Product_A\", lowBound=0, cat=\"Continuous\")\n",
    "xB = pulp.LpVariable(\"Product_B\", lowBound=0, cat=\"Continuous\")\n",
    "\n",
    "# Objective function\n",
    "model += 20 * xA + 30 * xB, \"Total_Profit\"\n",
    "\n",
    "# Constraints\n",
    "model += 2 * xA + 4 * xB <= 100, \"Machine_Time\"\n",
    "model += 3 * xA + 2 * xB <= 90, \"Labor_Time\"\n",
    "\n",
    "# Solve (CBC solver)\n",
    "model.solve(pulp.PULP_CBC_CMD(msg=False))\n",
    "\n",
    "# Results\n",
    "status = pulp.LpStatus[model.status]\n",
    "xA_opt = pulp.value(xA)\n",
    "xB_opt = pulp.value(xB)\n",
    "profit_opt = pulp.value(model.objective)\n",
    "\n",
    "print(\"Status:\", status)\n",
    "print(\"Optimal Product A:\", xA_opt)\n",
    "print(\"Optimal Product B:\", xB_opt)\n",
    "print(\"Maximum Profit = $\", profit_opt)"
   ]
  },
  {
   "cell_type": "code",
   "execution_count": null,
   "id": "b8d6e79f",
   "metadata": {
    "vscode": {
     "languageId": "plaintext"
    }
   },
   "outputs": [],
   "source": [
    "# Visualize feasible region and optimal solution\n",
    "\n",
    "x = np.linspace(0, 50, 400)\n",
    "\n",
    "# Constraint boundary functions (solved for xB)\n",
    "y_machine = (100 - 2 * x) / 4    # from machine constraint\n",
    "y_labor = (90 - 3 * x) / 2       # from labor constraint\n",
    "\n",
    "# Clip negatives to zero for display\n",
    "y_machine_clip = np.maximum(y_machine, 0)\n",
    "y_labor_clip = np.maximum(y_labor, 0)\n",
    "\n",
    "plt.figure(figsize=(9, 6))\n",
    "plt.plot(x, y_machine_clip, label=\"Machine: 2xA + 4xB = 100\")\n",
    "plt.plot(x, y_labor_clip, label=\"Labor: 3xA + 2xB = 90\")\n",
    "plt.fill_between(x, np.minimum(y_machine_clip, y_labor_clip), 0, alpha=0.25, color=\"lightblue\")\n",
    "\n",
    "# Optimal point\n",
    "plt.plot(xA_opt, xB_opt, \"ro\", markersize=8, label=f\"Optimal ({xA_opt:.2f}, {xB_opt:.2f})\")\n",
    "\n",
    "plt.xlim(0, max(30, xA_opt + 5))\n",
    "plt.ylim(0, max(30, xB_opt + 5))\n",
    "plt.xlabel(\"Product A (units)\")\n",
    "plt.ylabel(\"Product B (units)\")\n",
    "plt.title(\"Feasible Region and Optimal Production Plan\")\n",
    "plt.legend()\n",
    "plt.grid(True)\n",
    "\n",
    "# Save figure (optional)\n",
    "plt.tight_layout()\n",
    "plt.savefig(\"feasible_region.png\", dpi=150)\n",
    "plt.show()"
   ]
  },
  {
   "cell_type": "markdown",
   "id": "8f2665e7",
   "metadata": {},
   "source": [
    "## Solution & Interpretation\n",
    "\n",
    "- **Status:** Optimal\n",
    "- **Optimal production plan:**\n",
    "  - Product A = **15.0** units\n",
    "  - Product B = **17.5** units\n",
    "- **Maximum profit:** **$825.0**\n",
    "\n",
    "**Interpretation:**  \n",
    "The LP solver finds a corner (boundary) solution where the machine time constraint is binding:\n",
    "`2*15 + 4*17.5 = 100`. The labor constraint is not fully used (`3*15 + 2*17.5 = 80 <= 90`).\n",
    "This indicates machine hours are the limiting resource for this profit-maximizing plan."
   ]
  },
  {
   "cell_type": "markdown",
   "id": "f696e3fd",
   "metadata": {},
   "source": [
    "## Insights & Extensions\n",
    "\n",
    "**Business insights**\n",
    "- Producing fractional units is allowed by the continuous LP formulation; if units must be integer, convert to an Integer Programming problem (use `cat=\"Integer\"` in PuLP variables). The integer solution may differ slightly.\n",
    "- The optimal mix prioritizes the product combination that uses machine hours efficiently because machine time is the bottleneck.\n",
    "- If management can increase machine hours (e.g., overtime, additional shifts), the marginal benefit can be evaluated by sensitivity analysis (dual prices/shadow prices).\n",
    "\n",
    "**Possible extensions**\n",
    "- Add fixed costs or setup times (introduces binary variables -> MILP).\n",
    "- Introduce demand upper bounds per product.\n",
    "- Run sensitivity analysis on profit coefficients, resource capacities (shadow prices).\n",
    "- Re-run with integer constraints to produce implementable production plans."
   ]
  }
 ],
 "metadata": {
  "language_info": {
   "name": "python"
  }
 },
 "nbformat": 4,
 "nbformat_minor": 5
}
